{
  "cells": [
    {
      "attachments": {},
      "cell_type": "markdown",
      "metadata": {
        "id": "_3NfN9tECJxs"
      },
      "source": [
        "#Aula prática de análise de dados com Pandas\n",
        "\n",
        "---\n",
        "\n"
      ]
    },
    {
      "attachments": {},
      "cell_type": "markdown",
      "metadata": {
        "id": "CvCQC4BNCK5M"
      },
      "source": [
        "### Importanto bibliotecas "
      ]
    },
    {
      "cell_type": "code",
      "execution_count": null,
      "metadata": {
        "id": "eZaFzNALArpS"
      },
      "outputs": [],
      "source": [
        "import pandas as pd\n",
        "from google.colab import drive,files\n",
        "from pandas_profiling import ProfileReport"
      ]
    },
    {
      "attachments": {},
      "cell_type": "markdown",
      "metadata": {
        "id": "-IhKypTdCRrX"
      },
      "source": [
        "### Importanto o arquivo"
      ]
    },
    {
      "cell_type": "code",
      "execution_count": null,
      "metadata": {
        "colab": {
          "base_uri": "https://localhost:8080/"
        },
        "id": "g9eD7cAxCSjZ",
        "outputId": "e9d42ffb-76ca-41cf-d2b4-ec9fcdb5d66c"
      },
      "outputs": [
        {
          "name": "stdout",
          "output_type": "stream",
          "text": [
            "Drive already mounted at /content/drive; to attempt to forcibly remount, call drive.mount(\"/content/drive\", force_remount=True).\n"
          ]
        }
      ],
      "source": [
        "drive.mount('/content/drive')\n",
        "df = pd.read_csv('/content/drive/MyDrive/TrabalhoDocencia/UNINTER/combustivel2021.csv', sep=';',encoding='ISO-8859-1')\n",
        "#uploaded = files.upload()"
      ]
    },
    {
      "attachments": {},
      "cell_type": "markdown",
      "metadata": {
        "id": "WB3oqtmADN2u"
      },
      "source": [
        "### Dataframe - Preço de combustível no Brasil 2021"
      ]
    },
    {
      "attachments": {},
      "cell_type": "markdown",
      "metadata": {
        "id": "UPHQJYiBDS1u"
      },
      "source": [
        "Link dos dados: https://dados.gov.br/dataset/serie-historica-de-precos-de-combustiveis-por-revenda"
      ]
    },
    {
      "cell_type": "code",
      "execution_count": null,
      "metadata": {
        "id": "PS2wPqQHEqYh"
      },
      "outputs": [],
      "source": [
        "df.head()"
      ]
    },
    {
      "cell_type": "code",
      "execution_count": null,
      "metadata": {
        "id": "bjOJMNGrFFDX"
      },
      "outputs": [],
      "source": [
        "df.columns.values"
      ]
    },
    {
      "cell_type": "code",
      "execution_count": null,
      "metadata": {
        "id": "JLIIYEHBGTbH"
      },
      "outputs": [],
      "source": [
        "dfColunas = ['Estado - Sigla', 'Municipio', 'Revenda',\n",
        "        'Produto', 'Data da Coleta', 'Valor de Venda']"
      ]
    },
    {
      "cell_type": "code",
      "execution_count": null,
      "metadata": {
        "id": "0DxYMMEOGfSQ"
      },
      "outputs": [],
      "source": [
        "dfFiltrado = df.filter(items=dfColunas)\n",
        "dfFiltrado = dfFiltrado.rename(columns={'Estado - Sigla':'Estado'})"
      ]
    },
    {
      "cell_type": "code",
      "execution_count": null,
      "metadata": {
        "id": "sPP6tQijGz-e"
      },
      "outputs": [],
      "source": [
        "dfFiltrado"
      ]
    },
    {
      "attachments": {},
      "cell_type": "markdown",
      "metadata": {
        "id": "0_h1apg5GR8r"
      },
      "source": [
        "### Quantidade de entradas por estado"
      ]
    },
    {
      "cell_type": "code",
      "execution_count": null,
      "metadata": {
        "id": "_OtoMr2GH8qe"
      },
      "outputs": [],
      "source": [
        "colunaEstados = dfFiltrado['Estado']"
      ]
    },
    {
      "cell_type": "code",
      "execution_count": null,
      "metadata": {
        "id": "pqVlCgmgIw_p"
      },
      "outputs": [],
      "source": [
        "colunaEstados = colunaEstados.value_counts()\n",
        "colunaEstados"
      ]
    },
    {
      "attachments": {},
      "cell_type": "markdown",
      "metadata": {
        "id": "5Fvad2W6GX6e"
      },
      "source": [
        "### Percentual por estado"
      ]
    },
    {
      "cell_type": "code",
      "execution_count": null,
      "metadata": {
        "id": "lKxYedjUX08_"
      },
      "outputs": [],
      "source": [
        "pEstados = [100*x/colunaEstados.sum() for x in colunaEstados]\n",
        "pEstados"
      ]
    },
    {
      "attachments": {},
      "cell_type": "markdown",
      "metadata": {
        "id": "1ky7lXvQKL-S"
      },
      "source": [
        "### Filtrando somente por Gasolina"
      ]
    },
    {
      "cell_type": "code",
      "execution_count": null,
      "metadata": {
        "id": "QL8XrxNsKPqS"
      },
      "outputs": [],
      "source": [
        "dfColunas = ['Estado', 'Produto', 'Valor de Venda']\n",
        "dfGasolina = dfFiltrado.filter(items=dfColunas)\n",
        "dfGasolina = dfGasolina.loc[dfGasolina['Produto'] == 'GASOLINA']\n",
        "dfGasolina"
      ]
    },
    {
      "attachments": {},
      "cell_type": "markdown",
      "metadata": {
        "id": "2jfk4jz4L1Zn"
      },
      "source": [
        "### Agrupando por preço de gasolina\n"
      ]
    },
    {
      "cell_type": "code",
      "execution_count": null,
      "metadata": {
        "id": "RrvgmU7mMSUa"
      },
      "outputs": [],
      "source": [
        "dfGasolina['Valor de Venda'] = dfGasolina['Valor de Venda'].str.replace(',','.')\n",
        "dfGasolina = dfGasolina.astype({'Valor de Venda': 'float32'})\n",
        "dfGasolina = dfGasolina.groupby('Estado').mean()\n",
        "dfGasolina"
      ]
    },
    {
      "attachments": {},
      "cell_type": "markdown",
      "metadata": {
        "id": "pT1UlTDe7SMY"
      },
      "source": [
        "### Dois tipos de gasolina - regex"
      ]
    },
    {
      "cell_type": "code",
      "execution_count": null,
      "metadata": {
        "id": "xxhscTX77WLf"
      },
      "outputs": [],
      "source": [
        "dfColunas = ['Estado', 'Produto', 'Valor de Venda']\n",
        "dfGasolina2 = dfFiltrado.filter(items=dfColunas)\n",
        "regex = '^GASOLINA'\n",
        "dfGasolina2 = dfGasolina2.loc[dfGasolina2['Produto'].str.contains(regex, regex=True)]\n",
        "dfGasolina2"
      ]
    },
    {
      "attachments": {},
      "cell_type": "markdown",
      "metadata": {
        "id": "1tin7pdZ8Es7"
      },
      "source": [
        "### Agrupando por tipo de gasolina no Brasil inteiro "
      ]
    },
    {
      "cell_type": "code",
      "execution_count": null,
      "metadata": {
        "id": "X-OI6o1V8M8B"
      },
      "outputs": [],
      "source": [
        "dfGasolina2['Valor de Venda'] = dfGasolina2['Valor de Venda'].str.replace(',','.')\n",
        "dfGasolina2 = dfGasolina2.astype({'Valor de Venda': 'float32'})\n",
        "dfGasolina2 = dfGasolina2.groupby('Produto').mean()\n",
        "dfGasolina2"
      ]
    },
    {
      "attachments": {},
      "cell_type": "markdown",
      "metadata": {
        "id": "ufA5pSLp5-ah"
      },
      "source": [
        "### Pandas Profiling"
      ]
    },
    {
      "cell_type": "code",
      "execution_count": null,
      "metadata": {
        "id": "HXZC82tZ6Y2S"
      },
      "outputs": [],
      "source": [
        "pip install https://github.com/ydataai/pandas-profiling/archive/master.zip"
      ]
    },
    {
      "cell_type": "code",
      "execution_count": null,
      "metadata": {
        "id": "fFOLXxRe6r_2"
      },
      "outputs": [],
      "source": [
        "profile = ProfileReport(dfFiltrado)\n",
        "profile.to_notebook_iframe()\n",
        "profile.to_file('saida.html')\n"
      ]
    }
  ],
  "metadata": {
    "colab": {
      "provenance": [],
      "toc_visible": true
    },
    "kernelspec": {
      "display_name": "Python 3",
      "name": "python3"
    },
    "language_info": {
      "name": "python"
    }
  },
  "nbformat": 4,
  "nbformat_minor": 0
}
