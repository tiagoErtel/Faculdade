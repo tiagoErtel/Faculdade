{
  "cells": [
    {
      "cell_type": "code",
      "execution_count": 1,
      "metadata": {
        "id": "MAUO1q0JxEAh"
      },
      "outputs": [
        {
          "name": "stdout",
          "output_type": "stream",
          "text": [
            "<class 'str'>\n",
            "<class 'int'>\n",
            "<class 'float'>\n"
          ]
        },
        {
          "data": {
            "text/plain": [
              "'OLÁ'"
            ]
          },
          "execution_count": 1,
          "metadata": {},
          "output_type": "execute_result"
        }
      ],
      "source": [
        "print(type(\"olá\"))\n",
        "print(type(1))\n",
        "print(type(1.5))\n",
        "\n",
        "\"olá\".upper()"
      ]
    },
    {
      "cell_type": "code",
      "execution_count": null,
      "metadata": {
        "colab": {
          "base_uri": "https://localhost:8080/"
        },
        "id": "UtsqQbLaxrGk",
        "outputId": "424d0954-a7e1-4bd8-f92a-5eaef29aae42"
      },
      "outputs": [
        {
          "name": "stdout",
          "output_type": "stream",
          "text": [
            "Método jogar foi inicializado\n"
          ]
        }
      ],
      "source": [
        "class Jogador:\n",
        "  def jogar(self):\n",
        "    print('Método jogar foi inicializado')\n",
        "\n",
        "j1 = Jogador()\n",
        "j1.jogar()"
      ]
    },
    {
      "cell_type": "code",
      "execution_count": null,
      "metadata": {
        "colab": {
          "base_uri": "https://localhost:8080/"
        },
        "id": "B5_WJPdWyN_Y",
        "outputId": "9f4d60f7-e08a-48b7-c4d3-75af8a1c6cfe"
      },
      "outputs": [
        {
          "name": "stdout",
          "output_type": "stream",
          "text": [
            "Olá meu nome é Mario e minha idade é 30\n",
            "Olá meu nome é Luigi e minha idade é 25\n"
          ]
        }
      ],
      "source": [
        "class Pessoa:\n",
        "  def __init__(self,nome,idade):\n",
        "    self.nome=nome\n",
        "    self.idade=idade\n",
        "  \n",
        "  def apresentar(self):\n",
        "    print(f'Olá meu nome é {self.nome} e minha idade é {self.idade}')\n",
        "\n",
        "\n",
        "p1 = Pessoa('Mario',30)\n",
        "p1.apresentar()\n",
        "\n",
        "p2 = Pessoa('Luigi',25)\n",
        "p2.apresentar()"
      ]
    },
    {
      "cell_type": "code",
      "execution_count": null,
      "metadata": {
        "colab": {
          "base_uri": "https://localhost:8080/"
        },
        "id": "oelURMFG2KT0",
        "outputId": "23e199b3-8ec0-493e-821e-45f72812939a"
      },
      "outputs": [
        {
          "name": "stdout",
          "output_type": "stream",
          "text": [
            "Olá meu nome é Yoshi e minha idade é 15\n",
            "e sou cliente de cadastro: 1001\n",
            "Olá meu nome é Toad e minha idade é 10\n",
            "e sou cliente de cadastro: 1002\n"
          ]
        }
      ],
      "source": [
        "class Cliente(Pessoa):\n",
        "  quantidadeClientes=0 #variável estática static\n",
        "  def __init__(self,nome,idade):\n",
        "    super().__init__(nome,idade)\n",
        "    Cliente.quantidadeClientes+=1\n",
        "    self.cadastro=1000+Cliente.quantidadeClientes\n",
        "\n",
        "  def apresentar(self):\n",
        "    super().apresentar()\n",
        "    print(f'e sou cliente de cadastro: {self.cadastro}')\n",
        "\n",
        "c1=Cliente('Yoshi',15)\n",
        "c2=Cliente('Toad',10)\n",
        "c1.apresentar()\n",
        "c2.apresentar()"
      ]
    },
    {
      "cell_type": "code",
      "execution_count": null,
      "metadata": {
        "colab": {
          "base_uri": "https://localhost:8080/"
        },
        "id": "pn7eb81azBS5",
        "outputId": "5e1b2a80-4adb-4fc6-f162-94f5b600b56e"
      },
      "outputs": [
        {
          "name": "stdout",
          "output_type": "stream",
          "text": [
            "Olá sou o(a) funcionario(a) Peach e minha idade é 20\n",
            "1001\n",
            "Olá sou o(a) funcionario(a) Bowser e minha idade é 40\n"
          ]
        }
      ],
      "source": [
        "class Funcionario(Pessoa):\n",
        "  #pass\n",
        "  def __init__(self,nome,idade,cadastro):\n",
        "    self.nome=nome\n",
        "    self.idade=idade\n",
        "    self.cadastro = cadastro\n",
        "\n",
        "  def apresentar(self):\n",
        "    print(f'Olá sou o(a) funcionario(a) {self.nome} e minha idade é {self.idade}')\n",
        "\n",
        "\n",
        "f1 = Funcionario('Peach',20,1001)\n",
        "f2 = Funcionario('Bowser',40,1002)\n",
        "\n",
        "f1.apresentar()\n",
        "print(f1.cadastro)\n",
        "\n",
        "f2.apresentar()"
      ]
    },
    {
      "cell_type": "code",
      "execution_count": null,
      "metadata": {
        "colab": {
          "base_uri": "https://localhost:8080/"
        },
        "id": "h7IqHtXS4-pc",
        "outputId": "a5690e5c-d7ef-466e-f353-35a9a336e99b"
      },
      "outputs": [
        {
          "name": "stdout",
          "output_type": "stream",
          "text": [
            "True\n",
            "77.5\n",
            "80\n"
          ]
        }
      ],
      "source": [
        "class Aluno:\n",
        "  totalAlunos=0\n",
        "  def __init__(self,nome,nota):\n",
        "    Aluno.totalAlunos+=1\n",
        "    self.nome=nome\n",
        "    self.nota=nota #0-100\n",
        "    self.ru=1000 +Aluno.totalAlunos\n",
        "\n",
        "  def info(self):\n",
        "    print(f'Nome: {self.nome}; RU: {self.ru}; Nota:{self.nota};')\n",
        "\n",
        "  def getNota(self):\n",
        "    return self.nota\n",
        "\n",
        "#a1 =Aluno('Mario',90)\n",
        "#a1.info()\n",
        "\n",
        "class Turma:\n",
        "  def __init__(self,nome,limiteAlunos):\n",
        "    self.nome=nome\n",
        "    self.limiteAlunos=limiteAlunos\n",
        "    self.listaAlunos=[]\n",
        "\n",
        "  def addAluno(self,aluno):\n",
        "    if len(self.listaAlunos) <self.limiteAlunos:\n",
        "      self.listaAlunos.append(aluno)\n",
        "      return True\n",
        "    return False\n",
        "\n",
        "  def mediaTurma(self):\n",
        "    soma=0\n",
        "    for aluno in self.listaAlunos:\n",
        "      soma+=aluno.getNota()\n",
        "    return soma/len(self.listaAlunos)\n",
        "\n",
        "\n",
        "\n",
        "a1 = Aluno('Mario',90)\n",
        "a2 = Aluno('Luigi',80)\n",
        "a3 = Aluno('Yoshi',40)\n",
        "\n",
        "t1 = Turma('Programação',5)\n",
        "t1.addAluno(a1)\n",
        "t1.addAluno(a2)\n",
        "t1.addAluno(Aluno('Peach',100))\n",
        "\n",
        "\n",
        "print(t1.addAluno(a3))\n",
        "\n",
        "print(t1.mediaTurma())\n",
        "print(t1.listaAlunos[1].getNota())\n",
        "\n"
      ]
    },
    {
      "cell_type": "code",
      "execution_count": null,
      "metadata": {
        "id": "Jy4dVccK6Q0g"
      },
      "outputs": [],
      "source": []
    }
  ],
  "metadata": {
    "colab": {
      "provenance": []
    },
    "kernelspec": {
      "display_name": "Python 3",
      "name": "python3"
    },
    "language_info": {
      "codemirror_mode": {
        "name": "ipython",
        "version": 3
      },
      "file_extension": ".py",
      "mimetype": "text/x-python",
      "name": "python",
      "nbconvert_exporter": "python",
      "pygments_lexer": "ipython3",
      "version": "3.11.4"
    }
  },
  "nbformat": 4,
  "nbformat_minor": 0
}
